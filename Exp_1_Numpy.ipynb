{
  "nbformat": 4,
  "nbformat_minor": 0,
  "metadata": {
    "colab": {
      "name": "Exp:1 Numpy",
      "provenance": [],
      "authorship_tag": "ABX9TyMM7FMVaU+S50CSi8UejHwa",
      "include_colab_link": true
    },
    "kernelspec": {
      "name": "python3",
      "display_name": "Python 3"
    }
  },
  "cells": [
    {
      "cell_type": "markdown",
      "metadata": {
        "id": "view-in-github",
        "colab_type": "text"
      },
      "source": [
        "<a href=\"https://colab.research.google.com/github/19PA1A0298/AI-lab/blob/master/Exp_1_Numpy.ipynb\" target=\"_parent\"><img src=\"https://colab.research.google.com/assets/colab-badge.svg\" alt=\"Open In Colab\"/></a>"
      ]
    },
    {
      "cell_type": "markdown",
      "metadata": {
        "id": "l4tI9Q9GzKKq",
        "colab_type": "text"
      },
      "source": [
        "# \"Experiment No 1: Numpy\""
      ]
    },
    {
      "cell_type": "markdown",
      "metadata": {
        "id": "vRVWi-lyzVY2",
        "colab_type": "text"
      },
      "source": [
        "## i) Different ways to create Numpy arrays"
      ]
    },
    {
      "cell_type": "code",
      "metadata": {
        "id": "7aIM1kOEzh97",
        "colab_type": "code",
        "colab": {
          "base_uri": "https://localhost:8080/",
          "height": 34
        },
        "outputId": "9c21e898-1f9e-4f83-82fc-3b8b730b4dc4"
      },
      "source": [
        "import numpy as np\n",
        "a=np.array([10,20,30])\n",
        "print(a)"
      ],
      "execution_count": 6,
      "outputs": [
        {
          "output_type": "stream",
          "text": [
            "[10 20 30]\n"
          ],
          "name": "stdout"
        }
      ]
    },
    {
      "cell_type": "code",
      "metadata": {
        "id": "rIYply0B1QOL",
        "colab_type": "code",
        "colab": {
          "base_uri": "https://localhost:8080/",
          "height": 51
        },
        "outputId": "934e4fac-5b15-4106-f5e2-041d17b151ba"
      },
      "source": [
        "a=np.array([[10,20,30],[11,12,13]])\n",
        "print(a)"
      ],
      "execution_count": 7,
      "outputs": [
        {
          "output_type": "stream",
          "text": [
            "[[10 20 30]\n",
            " [11 12 13]]\n"
          ],
          "name": "stdout"
        }
      ]
    },
    {
      "cell_type": "markdown",
      "metadata": {
        "id": "_-KjuAkx1pHa",
        "colab_type": "text"
      },
      "source": [
        " ## ii)Add,Remove, Modify elements in array"
      ]
    },
    {
      "cell_type": "markdown",
      "metadata": {
        "id": "zGnahx301_vR",
        "colab_type": "text"
      },
      "source": [
        " ### Add"
      ]
    },
    {
      "cell_type": "code",
      "metadata": {
        "id": "73kWAWKU13Ic",
        "colab_type": "code",
        "colab": {
          "base_uri": "https://localhost:8080/",
          "height": 34
        },
        "outputId": "77e22733-e1ca-469a-f4a4-f5d471851864"
      },
      "source": [
        "a=np.array([1,2,3])\n",
        "b=np.append(a,[40,50,60])\n",
        "print (b)"
      ],
      "execution_count": 8,
      "outputs": [
        {
          "output_type": "stream",
          "text": [
            "[ 1  2  3 40 50 60]\n"
          ],
          "name": "stdout"
        }
      ]
    },
    {
      "cell_type": "markdown",
      "metadata": {
        "id": "wrdwSI8l2cYU",
        "colab_type": "text"
      },
      "source": [
        "### Remove"
      ]
    },
    {
      "cell_type": "code",
      "metadata": {
        "id": "e7iBpkiQ2fH4",
        "colab_type": "code",
        "colab": {
          "base_uri": "https://localhost:8080/",
          "height": 34
        },
        "outputId": "0e718b69-4507-4d99-dbab-0ba70e3edeed"
      },
      "source": [
        "c=np.delete(a,2)\n",
        "print(c)"
      ],
      "execution_count": 9,
      "outputs": [
        {
          "output_type": "stream",
          "text": [
            "[1 2]\n"
          ],
          "name": "stdout"
        }
      ]
    },
    {
      "cell_type": "markdown",
      "metadata": {
        "id": "qnIyeHQ52y3V",
        "colab_type": "text"
      },
      "source": [
        "### Modify"
      ]
    },
    {
      "cell_type": "code",
      "metadata": {
        "id": "xzbGO9DD25jr",
        "colab_type": "code",
        "colab": {
          "base_uri": "https://localhost:8080/",
          "height": 34
        },
        "outputId": "410dd019-aea3-4a38-c794-d9d68c42bf20"
      },
      "source": [
        "c[c<2]=-1\n",
        "print(c)"
      ],
      "execution_count": 11,
      "outputs": [
        {
          "output_type": "stream",
          "text": [
            "[-1  2]\n"
          ],
          "name": "stdout"
        }
      ]
    },
    {
      "cell_type": "markdown",
      "metadata": {
        "id": "QlNo2dCg3-en",
        "colab_type": "text"
      },
      "source": [
        " ## iii) Arthemetic operations on Numpy array"
      ]
    },
    {
      "cell_type": "code",
      "metadata": {
        "id": "3QdRXobu4HcX",
        "colab_type": "code",
        "colab": {
          "base_uri": "https://localhost:8080/",
          "height": 103
        },
        "outputId": "d08b726a-954d-42b0-d449-8b4a74a68e0f"
      },
      "source": [
        "import numpy as np\n",
        "x=([1,2,3])\n",
        "y=([2,1,4])\n",
        "num_sum=np.add(x,y)\n",
        "num_diff=np.subtract(x,y)\n",
        "num_quo=np.divide(x,y)\n",
        "num_mod=np.mod(x,y)\n",
        "num_pow=np.power(x,y)\n",
        "print(num_sum)\n",
        "print(num_diff)\n",
        "print(num_quo)\n",
        "print(num_mod)\n",
        "print(num_pow)"
      ],
      "execution_count": 14,
      "outputs": [
        {
          "output_type": "stream",
          "text": [
            "[3 3 7]\n",
            "[-1  1 -1]\n",
            "[0.5  2.   0.75]\n",
            "[1 0 3]\n",
            "[ 1  2 81]\n"
          ],
          "name": "stdout"
        }
      ]
    },
    {
      "cell_type": "markdown",
      "metadata": {
        "id": "z9hI6N3x7ga7",
        "colab_type": "text"
      },
      "source": [
        "## iv) Slicing and iterating of Numpy arrays"
      ]
    },
    {
      "cell_type": "markdown",
      "metadata": {
        "id": "7mKNPzJD7w0o",
        "colab_type": "text"
      },
      "source": [
        " ### Slicing"
      ]
    },
    {
      "cell_type": "code",
      "metadata": {
        "id": "5hxe1qNV71an",
        "colab_type": "code",
        "colab": {
          "base_uri": "https://localhost:8080/",
          "height": 34
        },
        "outputId": "1e3a3f71-0e7a-42e8-a4fc-c6c43a37945f"
      },
      "source": [
        "import numpy as np\n",
        "arr=np.array([1,2,3,4])\n",
        "print(arr[1:4])"
      ],
      "execution_count": 15,
      "outputs": [
        {
          "output_type": "stream",
          "text": [
            "[2 3 4]\n"
          ],
          "name": "stdout"
        }
      ]
    },
    {
      "cell_type": "markdown",
      "metadata": {
        "id": "Tyax0Cj-8id0",
        "colab_type": "text"
      },
      "source": [
        "### Iterating"
      ]
    },
    {
      "cell_type": "code",
      "metadata": {
        "id": "CE8Q6_fm8lgN",
        "colab_type": "code",
        "colab": {
          "base_uri": "https://localhost:8080/",
          "height": 85
        },
        "outputId": "783d894c-0050-40f1-f2a1-2147a49227f2"
      },
      "source": [
        "for a in arr:\n",
        " print(a)"
      ],
      "execution_count": 17,
      "outputs": [
        {
          "output_type": "stream",
          "text": [
            "1\n",
            "2\n",
            "3\n",
            "4\n"
          ],
          "name": "stdout"
        }
      ]
    },
    {
      "cell_type": "markdown",
      "metadata": {
        "id": "2gAzIBWr9bUF",
        "colab_type": "text"
      },
      "source": [
        "## v)Matrix operations on Numpy arrays"
      ]
    },
    {
      "cell_type": "code",
      "metadata": {
        "id": "OE2NmxV_9nSW",
        "colab_type": "code",
        "colab": {
          "base_uri": "https://localhost:8080/",
          "height": 120
        },
        "outputId": "ce9e19a0-167a-4d94-ee3c-a844059d73d8"
      },
      "source": [
        "import numpy as np\n",
        "x=np.array([[1,4],[2,3]])\n",
        "y=np.array([[6,9],[7,8]])\n",
        "print(np.add(x,y))\n",
        "print(np.subtract(x,y))\n",
        "print(np.divide(x,y))"
      ],
      "execution_count": 19,
      "outputs": [
        {
          "output_type": "stream",
          "text": [
            "[[ 7 13]\n",
            " [ 9 11]]\n",
            "[[-5 -5]\n",
            " [-5 -5]]\n",
            "[[0.16666667 0.44444444]\n",
            " [0.28571429 0.375     ]]\n"
          ],
          "name": "stdout"
        }
      ]
    }
  ]
}